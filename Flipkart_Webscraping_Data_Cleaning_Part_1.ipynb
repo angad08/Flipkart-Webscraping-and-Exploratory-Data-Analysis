{
 "cells": [
  {
   "cell_type": "markdown",
   "metadata": {},
   "source": [
    "### *************************************************************************************************************************"
   ]
  },
  {
   "cell_type": "markdown",
   "metadata": {},
   "source": [
    "# NOTE:\n",
    "# You Will Need To Uncomment and Change the regex code and clean the data accordingly if you run the webscraping code . Beacause the data you scrape wont be same with what i have scraped and will change and you will need to clean the data accordingly.\n",
    "\n",
    "\n",
    "# So its suggested strongly to not run the webscraping code and start looking from cell where the csv file \"flipkart_scraped_data\" is imported."
   ]
  },
  {
   "cell_type": "markdown",
   "metadata": {},
   "source": [
    "### *************************************************************************************************************************"
   ]
  },
  {
   "cell_type": "code",
   "execution_count": 2,
   "metadata": {},
   "outputs": [],
   "source": [
    "import requests as rq\n",
    "import pandas as pd\n",
    "import numpy as np\n",
    "from bs4 import BeautifulSoup as bs\n",
    "import re"
   ]
  },
  {
   "cell_type": "markdown",
   "metadata": {},
   "source": [
    "# NOTE:ONLY RUN THIS IF YOU ARE FAMILIAR WITH DATA CLEANING AND REGEX ELSE SKIP THIS CELL.\n",
    "\n",
    "#### Extracting the Details From Website of Flipkart\n",
    "#### Product Name,ratings,Price,Specs,Page Number and discount"
   ]
  },
  {
   "cell_type": "code",
   "execution_count": 3,
   "metadata": {},
   "outputs": [],
   "source": [
    "# productname = []\n",
    "# rating = []\n",
    "# price = []\n",
    "# specs = []\n",
    "# pageNo=[]\n",
    "# discounted=[]\n",
    "# for n in range(1,15):\n",
    "#     URL = 'https://www.flipkart.com/search?q=laptop&otracker=search&otracker1=search&marketplace=FLIPKART&as-show=on&as=off&page={}'.format(n)\n",
    "#     page=rq.get(URL)\n",
    "#     pagecontent = page.text\n",
    "#     soup = bs(pagecontent)\n",
    "#     # Accessing the Div element where all the product details are Stored\n",
    "#         # Product name\n",
    "#         #Price\n",
    "#         #ratings\n",
    "#         #etc\n",
    "#     for x in soup.find_all('div',attrs = {'class':'_3pLy-c row'}):\n",
    "        \n",
    "#         #This extracts the product name from the webiste\n",
    "#         pname = x.find('div',attrs = {'class':'_4rR01T'})\n",
    "        \n",
    "#         #This will extract the Cost price\n",
    "#         cost = x.find('div',attrs ={'class':'_1_WHN1'})\n",
    "        \n",
    "#         #This will extract the ratings\n",
    "#         rat = x.find('div',attrs = {'class':'_3LWZlK'})\n",
    "#         #This will extract the discount\n",
    "#         discount = x.find('div',attrs = {'class':'_3Ay6Sb'})\n",
    "#         #This will extract the Specifications\n",
    "#         war = x.find('li',attrs = {'class':'rgWa7D'})\n",
    "        \n",
    "#         #This will create a list of all details for dataFrame. If the scraped text happens to be none then Nan will be appended\n",
    "#         if pname is None:\n",
    "#             productname.append(np.NaN)\n",
    "#         else:\n",
    "#             productname.append(pname.text)\n",
    "        \n",
    "#         if cost is None:\n",
    "#             price.append(np.NaN)\n",
    "#         else:\n",
    "#             price.append(cost.text)\n",
    "            \n",
    "#         if rat is None:\n",
    "#             rating.append(np.NaN)\n",
    "#         else:\n",
    "#             rating.append(rat.text)\n",
    "        \n",
    "#         if war is None:\n",
    "#             specs.append(np.NaN)\n",
    "#         else:\n",
    "#             specs.append(war.text)\n",
    "#         if discount is None:\n",
    "#             discounted.append(np.NaN)\n",
    "#         else:\n",
    "#             discounted.append(discount.text.strip(\"% off\"))\n",
    "#         pageNo.append(n)"
   ]
  },
  {
   "cell_type": "markdown",
   "metadata": {},
   "source": [
    "# Converting the Scraped Data Into the DataFrame and Then Saving it into csv file to read it for analysis purpose"
   ]
  },
  {
   "cell_type": "code",
   "execution_count": 4,
   "metadata": {},
   "outputs": [],
   "source": [
    "# flipKart=pd.DataFrame({\"Product\":productname,\"Price\":price,\"Ratings\":rating,\"Specs\":specs,\"PageNumber\":pageNo,\"Discount\":discounted})\n",
    "# #flipKart.to_csv(\"PATHNAME\\\\flipkart_scraped_data.csv\",index=False)"
   ]
  },
  {
   "cell_type": "markdown",
   "metadata": {},
   "source": [
    "# *FOR EDA PART START LOOKING FROM BELOW OTHERWISE IF YOU WANT WEB SCRAPING ALSO THEN RUN THE WHOLE CELL AND CHANGE THE BELOW CLEANING PART AND REGEX CODES ACCORDINGLY AND YOU WILL ALSO NEED TO CHANGE THE PART 2 ANALYSIS ALSO.*\n",
    "\n",
    "# *SO I RECOMMEND,IF YOU WANT TO UNDERSTAND THE EDA,DONT RUN THE WEB SCRAPING CODE AND START LOOKING FROM BELOW. FROM BEOW THE DATA CLEANING STARTS AND IN PART 2 ,THE EDA STARTS*"
   ]
  },
  {
   "cell_type": "code",
   "execution_count": 5,
   "metadata": {},
   "outputs": [
    {
     "data": {
      "text/html": [
       "<div>\n",
       "<style scoped>\n",
       "    .dataframe tbody tr th:only-of-type {\n",
       "        vertical-align: middle;\n",
       "    }\n",
       "\n",
       "    .dataframe tbody tr th {\n",
       "        vertical-align: top;\n",
       "    }\n",
       "\n",
       "    .dataframe thead th {\n",
       "        text-align: right;\n",
       "    }\n",
       "</style>\n",
       "<table border=\"1\" class=\"dataframe\">\n",
       "  <thead>\n",
       "    <tr style=\"text-align: right;\">\n",
       "      <th></th>\n",
       "      <th>Product</th>\n",
       "      <th>Price</th>\n",
       "      <th>Ratings</th>\n",
       "      <th>Specs</th>\n",
       "      <th>PageNumber</th>\n",
       "      <th>Discount</th>\n",
       "    </tr>\n",
       "  </thead>\n",
       "  <tbody>\n",
       "    <tr>\n",
       "      <th>0</th>\n",
       "      <td>Lenovo IdeaPad Gaming Ryzen 5 Hexa Core 4600H ...</td>\n",
       "      <td>₹63,990</td>\n",
       "      <td>NaN</td>\n",
       "      <td>AMD Ryzen 5 Hexa Core Processor</td>\n",
       "      <td>1</td>\n",
       "      <td>26.0</td>\n",
       "    </tr>\n",
       "    <tr>\n",
       "      <th>1</th>\n",
       "      <td>Lenovo Core i5 9th Gen - (8 GB/1 TB HDD/Window...</td>\n",
       "      <td>₹49,990</td>\n",
       "      <td>4.1</td>\n",
       "      <td>Intel Core i5 Processor (9th Gen)</td>\n",
       "      <td>1</td>\n",
       "      <td>28.0</td>\n",
       "    </tr>\n",
       "    <tr>\n",
       "      <th>2</th>\n",
       "      <td>HP Pentium Quad Core - (8 GB/256 GB SSD/Window...</td>\n",
       "      <td>₹31,490</td>\n",
       "      <td>4.4</td>\n",
       "      <td>Intel Pentium Quad Core Processor</td>\n",
       "      <td>1</td>\n",
       "      <td>8.0</td>\n",
       "    </tr>\n",
       "    <tr>\n",
       "      <th>3</th>\n",
       "      <td>ASUS VivoBook 15 Core i3 10th Gen - (8 GB/1 TB...</td>\n",
       "      <td>₹34,910</td>\n",
       "      <td>4.1</td>\n",
       "      <td>Intel Core i3 Processor (10th Gen)</td>\n",
       "      <td>1</td>\n",
       "      <td>NaN</td>\n",
       "    </tr>\n",
       "    <tr>\n",
       "      <th>4</th>\n",
       "      <td>HP 14s Ryzen 3 Quad Core 4300U - (8 GB/512 GB ...</td>\n",
       "      <td>₹39,490</td>\n",
       "      <td>4.4</td>\n",
       "      <td>AMD Ryzen 3 Quad Core Processor</td>\n",
       "      <td>1</td>\n",
       "      <td>11.0</td>\n",
       "    </tr>\n",
       "  </tbody>\n",
       "</table>\n",
       "</div>"
      ],
      "text/plain": [
       "                                             Product    Price  Ratings  \\\n",
       "0  Lenovo IdeaPad Gaming Ryzen 5 Hexa Core 4600H ...  ₹63,990      NaN   \n",
       "1  Lenovo Core i5 9th Gen - (8 GB/1 TB HDD/Window...  ₹49,990      4.1   \n",
       "2  HP Pentium Quad Core - (8 GB/256 GB SSD/Window...  ₹31,490      4.4   \n",
       "3  ASUS VivoBook 15 Core i3 10th Gen - (8 GB/1 TB...  ₹34,910      4.1   \n",
       "4  HP 14s Ryzen 3 Quad Core 4300U - (8 GB/512 GB ...  ₹39,490      4.4   \n",
       "\n",
       "                                Specs  PageNumber  Discount  \n",
       "0     AMD Ryzen 5 Hexa Core Processor           1      26.0  \n",
       "1   Intel Core i5 Processor (9th Gen)           1      28.0  \n",
       "2   Intel Pentium Quad Core Processor           1       8.0  \n",
       "3  Intel Core i3 Processor (10th Gen)           1       NaN  \n",
       "4     AMD Ryzen 3 Quad Core Processor           1      11.0  "
      ]
     },
     "execution_count": 5,
     "metadata": {},
     "output_type": "execute_result"
    }
   ],
   "source": [
    "fp=pd.read_csv(\"flipkart_scraped_data.csv\")\n",
    "fp.to_csv(\"C:\\\\Users\\\\Angat\\\\Downloads\\\\flipkart_scraped_data.csv\",index=False)\n",
    "fp.head(5)"
   ]
  },
  {
   "cell_type": "markdown",
   "metadata": {},
   "source": [
    "#### Lets Now Check the null vlaues in our dataset"
   ]
  },
  {
   "cell_type": "code",
   "execution_count": 6,
   "metadata": {},
   "outputs": [
    {
     "data": {
      "text/plain": [
       "Product        0\n",
       "Price          0\n",
       "Ratings       73\n",
       "Specs          0\n",
       "PageNumber     0\n",
       "Discount      37\n",
       "dtype: int64"
      ]
     },
     "execution_count": 6,
     "metadata": {},
     "output_type": "execute_result"
    }
   ],
   "source": [
    "fp.isna().sum()"
   ]
  },
  {
   "cell_type": "markdown",
   "metadata": {},
   "source": [
    "# So The ratings and discount Column is None for some product beacuse it may happen that some products may be newly uploaded on flipkart and People Havent purchased it or discount might not be applicable\n",
    "# So it wont have any ratings as now now. So replacing those null with 0 as that seems appropriate and same applies for discount"
   ]
  },
  {
   "cell_type": "code",
   "execution_count": 7,
   "metadata": {},
   "outputs": [],
   "source": [
    "fp.fillna(0,inplace=True)"
   ]
  },
  {
   "cell_type": "markdown",
   "metadata": {},
   "source": [
    "# SO with the fillna( ) command,All nulls were filled and giving inplace as True will update the dataframe without having it reassigne"
   ]
  },
  {
   "cell_type": "code",
   "execution_count": 8,
   "metadata": {},
   "outputs": [
    {
     "data": {
      "text/plain": [
       "Product       0\n",
       "Price         0\n",
       "Ratings       0\n",
       "Specs         0\n",
       "PageNumber    0\n",
       "Discount      0\n",
       "dtype: int64"
      ]
     },
     "execution_count": 8,
     "metadata": {},
     "output_type": "execute_result"
    }
   ],
   "source": [
    "fp.isna().sum()"
   ]
  },
  {
   "cell_type": "markdown",
   "metadata": {},
   "source": [
    "# Replacing the Wrong Scraped data with respective processor details as per given in product"
   ]
  },
  {
   "cell_type": "code",
   "execution_count": 9,
   "metadata": {},
   "outputs": [],
   "source": [
    "fp[\"Specs\"].replace(\"Pre-installed Genuine Windows 10 Operating System (Includes Built-in Security, Free Automated Updates, Latest Features)\",\"Intel Core i7 Processor (7th Gen)\",inplace=True)\n",
    "fp[\"Specs\"].replace(\"512 GB SSD for Reduced Boot Up Time and in Game Loading\",\"Intel Core i7 Processor (8th Gen)\",inplace=True)\n",
    "fp[\"Specs\"].replace(\"15.6 inches Full HD IPS Thin Bezel Display (144Hz, 45% NTSC Color Gamut)\",\"Intel Core i7 Processor (10th Gen)\",inplace=True)\n",
    "fp[\"Specs\"].replace(\"First Ever Screenpad\",\"Intel Core i9 Processor (8th Gen)\",inplace=True)"
   ]
  },
  {
   "cell_type": "markdown",
   "metadata": {},
   "source": [
    "#### Lets Add Some columns to our dataset so that we can make precise analysis\n",
    "\n",
    "#### Extracting Brand,ProcessorName,RAM size,Storage,OS,Processor , Generation,GC size and Brand via regex"
   ]
  },
  {
   "cell_type": "code",
   "execution_count": 10,
   "metadata": {},
   "outputs": [],
   "source": [
    "fp[\"Brand\"]=fp[\"Product\"].apply(lambda x:re.compile(\"^\\w+\").findall(x)[0])\n",
    "fp[\"ProcessorName\"]=fp[\"Product\"].apply(lambda x:\"\".join(re.compile(\"(?:Ryzen \\w+|Pentium|Athlon|Celeron)|Core \\w+\").findall(x)))\n",
    "fp[\"ProcessorBrand\"]=fp[\"Specs\"].apply(lambda x:\" \".join(re.compile(\"(?:Intel|AMD|Apple)\").findall(x)[:2]))\n",
    "fp[\"ProcessorGeneration\"]=fp[\"Specs\"].apply(lambda x:\"\".join(re.compile(\"Ryzen \\d+|\\d{1,2}th Gen+\").findall(x)))\n",
    "fp[\"RAM\"]=fp[\"Product\"].apply(lambda x:\" \".join(re.compile(\"\\d{1,2} GB\\/|\\d{1,2}GB\\/|\\d{1,2} GB \\+ \\d{1,2} GB\").findall(x))).str.strip(\"/\")\n",
    "fp[\"SSD/HDD Size\"]=fp[\"Product\"].apply(lambda x:\" \".join(re.compile(\"\\d TB [SSD|HDD]+|\\d{3} GB [SSD|HDD]+\").findall(x)))\n",
    "fp[\"OS\"]=fp[\"Product\"].apply(lambda x:\" \".join(re.compile(\"Windows \\d{1,2}|Mac OS\").findall(x)))\n",
    "fp[\"GraphicCardSize\"]=fp[\"Product\"].apply(lambda x:\" \".join(re.compile(\"\\d{1,2} GB Graphics*\").findall(x))).str.strip(\"Graphics\")\n",
    "fp[\"GraphicCardBrand\"]=fp[\"Product\"].apply(lambda x:\" \".join(re.compile(\"Graphics/(.*)\\)?\").findall(x)))"
   ]
  },
  {
   "cell_type": "markdown",
   "metadata": {},
   "source": [
    "#### We See there are some different case brand names for Lenovo. This may impact our analysis by taking it as seperate brand like Lenovo and lenovo may be treated differently.\n",
    "\n",
    "#### So lets Combine them as One Brand By Replacing the Name with Lenovo"
   ]
  },
  {
   "cell_type": "code",
   "execution_count": 11,
   "metadata": {},
   "outputs": [
    {
     "data": {
      "text/html": [
       "<div>\n",
       "<style scoped>\n",
       "    .dataframe tbody tr th:only-of-type {\n",
       "        vertical-align: middle;\n",
       "    }\n",
       "\n",
       "    .dataframe tbody tr th {\n",
       "        vertical-align: top;\n",
       "    }\n",
       "\n",
       "    .dataframe thead th {\n",
       "        text-align: right;\n",
       "    }\n",
       "</style>\n",
       "<table border=\"1\" class=\"dataframe\">\n",
       "  <thead>\n",
       "    <tr style=\"text-align: right;\">\n",
       "      <th></th>\n",
       "      <th>Product</th>\n",
       "      <th>Price</th>\n",
       "      <th>Ratings</th>\n",
       "      <th>Specs</th>\n",
       "      <th>PageNumber</th>\n",
       "      <th>Discount</th>\n",
       "      <th>Brand</th>\n",
       "      <th>ProcessorName</th>\n",
       "      <th>ProcessorBrand</th>\n",
       "      <th>ProcessorGeneration</th>\n",
       "      <th>RAM</th>\n",
       "      <th>SSD/HDD Size</th>\n",
       "      <th>OS</th>\n",
       "      <th>GraphicCardSize</th>\n",
       "      <th>GraphicCardBrand</th>\n",
       "    </tr>\n",
       "  </thead>\n",
       "  <tbody>\n",
       "    <tr>\n",
       "      <th>0</th>\n",
       "      <td>Lenovo IdeaPad Gaming Ryzen 5 Hexa Core 4600H ...</td>\n",
       "      <td>₹63,990</td>\n",
       "      <td>0.0</td>\n",
       "      <td>AMD Ryzen 5 Hexa Core Processor</td>\n",
       "      <td>1</td>\n",
       "      <td>26.0</td>\n",
       "      <td>Lenovo</td>\n",
       "      <td>Ryzen 5Core 4600H</td>\n",
       "      <td>AMD</td>\n",
       "      <td>Ryzen 5</td>\n",
       "      <td>8 GB</td>\n",
       "      <td>1 TB HDD 256 GB SSD</td>\n",
       "      <td>Windows 10</td>\n",
       "      <td>4 GB</td>\n",
       "      <td></td>\n",
       "    </tr>\n",
       "    <tr>\n",
       "      <th>1</th>\n",
       "      <td>Lenovo Core i5 9th Gen - (8 GB/1 TB HDD/Window...</td>\n",
       "      <td>₹49,990</td>\n",
       "      <td>4.1</td>\n",
       "      <td>Intel Core i5 Processor (9th Gen)</td>\n",
       "      <td>1</td>\n",
       "      <td>28.0</td>\n",
       "      <td>Lenovo</td>\n",
       "      <td>Core i5</td>\n",
       "      <td>Intel</td>\n",
       "      <td>9th Gen</td>\n",
       "      <td>8 GB</td>\n",
       "      <td>1 TB HDD</td>\n",
       "      <td>Windows 10</td>\n",
       "      <td>3 GB</td>\n",
       "      <td>NVIDIA GeForce GTX 1050) L340-15...</td>\n",
       "    </tr>\n",
       "    <tr>\n",
       "      <th>2</th>\n",
       "      <td>HP Pentium Quad Core - (8 GB/256 GB SSD/Window...</td>\n",
       "      <td>₹31,490</td>\n",
       "      <td>4.4</td>\n",
       "      <td>Intel Pentium Quad Core Processor</td>\n",
       "      <td>1</td>\n",
       "      <td>8.0</td>\n",
       "      <td>HP</td>\n",
       "      <td>Pentium</td>\n",
       "      <td>Intel</td>\n",
       "      <td></td>\n",
       "      <td>8 GB</td>\n",
       "      <td>256 GB SSD</td>\n",
       "      <td>Windows 10</td>\n",
       "      <td></td>\n",
       "      <td></td>\n",
       "    </tr>\n",
       "    <tr>\n",
       "      <th>3</th>\n",
       "      <td>ASUS VivoBook 15 Core i3 10th Gen - (8 GB/1 TB...</td>\n",
       "      <td>₹34,910</td>\n",
       "      <td>4.1</td>\n",
       "      <td>Intel Core i3 Processor (10th Gen)</td>\n",
       "      <td>1</td>\n",
       "      <td>0.0</td>\n",
       "      <td>ASUS</td>\n",
       "      <td>Core i3</td>\n",
       "      <td>Intel</td>\n",
       "      <td>10th Gen</td>\n",
       "      <td>8 GB</td>\n",
       "      <td>1 TB HDD</td>\n",
       "      <td>Windows 10</td>\n",
       "      <td></td>\n",
       "      <td></td>\n",
       "    </tr>\n",
       "    <tr>\n",
       "      <th>4</th>\n",
       "      <td>HP 14s Ryzen 3 Quad Core 4300U - (8 GB/512 GB ...</td>\n",
       "      <td>₹39,490</td>\n",
       "      <td>4.4</td>\n",
       "      <td>AMD Ryzen 3 Quad Core Processor</td>\n",
       "      <td>1</td>\n",
       "      <td>11.0</td>\n",
       "      <td>HP</td>\n",
       "      <td>Ryzen 3Core 4300U</td>\n",
       "      <td>AMD</td>\n",
       "      <td>Ryzen 3</td>\n",
       "      <td>8 GB</td>\n",
       "      <td>512 GB SSD</td>\n",
       "      <td>Windows 10</td>\n",
       "      <td></td>\n",
       "      <td></td>\n",
       "    </tr>\n",
       "    <tr>\n",
       "      <th>...</th>\n",
       "      <td>...</td>\n",
       "      <td>...</td>\n",
       "      <td>...</td>\n",
       "      <td>...</td>\n",
       "      <td>...</td>\n",
       "      <td>...</td>\n",
       "      <td>...</td>\n",
       "      <td>...</td>\n",
       "      <td>...</td>\n",
       "      <td>...</td>\n",
       "      <td>...</td>\n",
       "      <td>...</td>\n",
       "      <td>...</td>\n",
       "      <td>...</td>\n",
       "      <td>...</td>\n",
       "    </tr>\n",
       "    <tr>\n",
       "      <th>331</th>\n",
       "      <td>Lenovo IdeaPad Gaming 3 Ryzen 7 Octa Core 4800...</td>\n",
       "      <td>₹67,990</td>\n",
       "      <td>4.0</td>\n",
       "      <td>AMD Ryzen 7 Octa Core Processor</td>\n",
       "      <td>14</td>\n",
       "      <td>24.0</td>\n",
       "      <td>Lenovo</td>\n",
       "      <td>Ryzen 7Core 4800H</td>\n",
       "      <td>AMD</td>\n",
       "      <td>Ryzen 7</td>\n",
       "      <td>8 GB</td>\n",
       "      <td>512 GB SSD</td>\n",
       "      <td>Windows 10</td>\n",
       "      <td>4 GB</td>\n",
       "      <td>NVIDI...</td>\n",
       "    </tr>\n",
       "    <tr>\n",
       "      <th>332</th>\n",
       "      <td>Avita Pura Ryzen 5 Quad Core 3500U - (8 GB/512...</td>\n",
       "      <td>₹30,792</td>\n",
       "      <td>4.2</td>\n",
       "      <td>AMD Ryzen 5 Quad Core Processor</td>\n",
       "      <td>14</td>\n",
       "      <td>41.0</td>\n",
       "      <td>Avita</td>\n",
       "      <td>Ryzen 5Core 3500U</td>\n",
       "      <td>AMD</td>\n",
       "      <td>Ryzen 5</td>\n",
       "      <td>8 GB</td>\n",
       "      <td>512 GB SSD</td>\n",
       "      <td>Windows 10</td>\n",
       "      <td></td>\n",
       "      <td></td>\n",
       "    </tr>\n",
       "    <tr>\n",
       "      <th>333</th>\n",
       "      <td>HP 15 Core i7 8th Gen - (8 GB/1 TB HDD/128 GB ...</td>\n",
       "      <td>₹1,16,941</td>\n",
       "      <td>0.0</td>\n",
       "      <td>Intel Core i7 Processor (8th Gen)</td>\n",
       "      <td>14</td>\n",
       "      <td>0.0</td>\n",
       "      <td>HP</td>\n",
       "      <td>Core i7</td>\n",
       "      <td>Intel</td>\n",
       "      <td>8th Gen</td>\n",
       "      <td>8 GB</td>\n",
       "      <td>1 TB HDD 128 GB SSD</td>\n",
       "      <td>Windows 10</td>\n",
       "      <td>4 GB</td>\n",
       "      <td></td>\n",
       "    </tr>\n",
       "    <tr>\n",
       "      <th>334</th>\n",
       "      <td>MSI Creator 17 Core i7 10th Gen - (32 GB/1 TB ...</td>\n",
       "      <td>₹2,64,990</td>\n",
       "      <td>0.0</td>\n",
       "      <td>Intel Core i7 Processor (10th Gen)</td>\n",
       "      <td>14</td>\n",
       "      <td>15.0</td>\n",
       "      <td>MSI</td>\n",
       "      <td>Core i7</td>\n",
       "      <td>Intel</td>\n",
       "      <td>10th Gen</td>\n",
       "      <td>32 GB</td>\n",
       "      <td>1 TB SSD</td>\n",
       "      <td>Windows 10</td>\n",
       "      <td>8 GB</td>\n",
       "      <td>NVIDIA GeForce RTX 207...</td>\n",
       "    </tr>\n",
       "    <tr>\n",
       "      <th>335</th>\n",
       "      <td>Lenovo IdeaPad Core i3 11th Gen - (8 GB/512 GB...</td>\n",
       "      <td>₹61,790</td>\n",
       "      <td>0.0</td>\n",
       "      <td>Intel Core i3 Processor (11th Gen)</td>\n",
       "      <td>14</td>\n",
       "      <td>0.0</td>\n",
       "      <td>Lenovo</td>\n",
       "      <td>Core i3</td>\n",
       "      <td>Intel</td>\n",
       "      <td>11th Gen</td>\n",
       "      <td>8 GB</td>\n",
       "      <td>512 GB SSD</td>\n",
       "      <td>Windows 10</td>\n",
       "      <td></td>\n",
       "      <td></td>\n",
       "    </tr>\n",
       "  </tbody>\n",
       "</table>\n",
       "<p>336 rows × 15 columns</p>\n",
       "</div>"
      ],
      "text/plain": [
       "                                               Product      Price  Ratings  \\\n",
       "0    Lenovo IdeaPad Gaming Ryzen 5 Hexa Core 4600H ...    ₹63,990      0.0   \n",
       "1    Lenovo Core i5 9th Gen - (8 GB/1 TB HDD/Window...    ₹49,990      4.1   \n",
       "2    HP Pentium Quad Core - (8 GB/256 GB SSD/Window...    ₹31,490      4.4   \n",
       "3    ASUS VivoBook 15 Core i3 10th Gen - (8 GB/1 TB...    ₹34,910      4.1   \n",
       "4    HP 14s Ryzen 3 Quad Core 4300U - (8 GB/512 GB ...    ₹39,490      4.4   \n",
       "..                                                 ...        ...      ...   \n",
       "331  Lenovo IdeaPad Gaming 3 Ryzen 7 Octa Core 4800...    ₹67,990      4.0   \n",
       "332  Avita Pura Ryzen 5 Quad Core 3500U - (8 GB/512...    ₹30,792      4.2   \n",
       "333  HP 15 Core i7 8th Gen - (8 GB/1 TB HDD/128 GB ...  ₹1,16,941      0.0   \n",
       "334  MSI Creator 17 Core i7 10th Gen - (32 GB/1 TB ...  ₹2,64,990      0.0   \n",
       "335  Lenovo IdeaPad Core i3 11th Gen - (8 GB/512 GB...    ₹61,790      0.0   \n",
       "\n",
       "                                  Specs  PageNumber  Discount   Brand  \\\n",
       "0       AMD Ryzen 5 Hexa Core Processor           1      26.0  Lenovo   \n",
       "1     Intel Core i5 Processor (9th Gen)           1      28.0  Lenovo   \n",
       "2     Intel Pentium Quad Core Processor           1       8.0      HP   \n",
       "3    Intel Core i3 Processor (10th Gen)           1       0.0    ASUS   \n",
       "4       AMD Ryzen 3 Quad Core Processor           1      11.0      HP   \n",
       "..                                  ...         ...       ...     ...   \n",
       "331     AMD Ryzen 7 Octa Core Processor          14      24.0  Lenovo   \n",
       "332     AMD Ryzen 5 Quad Core Processor          14      41.0   Avita   \n",
       "333   Intel Core i7 Processor (8th Gen)          14       0.0      HP   \n",
       "334  Intel Core i7 Processor (10th Gen)          14      15.0     MSI   \n",
       "335  Intel Core i3 Processor (11th Gen)          14       0.0  Lenovo   \n",
       "\n",
       "         ProcessorName ProcessorBrand ProcessorGeneration    RAM  \\\n",
       "0    Ryzen 5Core 4600H            AMD             Ryzen 5   8 GB   \n",
       "1              Core i5          Intel             9th Gen   8 GB   \n",
       "2              Pentium          Intel                       8 GB   \n",
       "3              Core i3          Intel            10th Gen   8 GB   \n",
       "4    Ryzen 3Core 4300U            AMD             Ryzen 3   8 GB   \n",
       "..                 ...            ...                 ...    ...   \n",
       "331  Ryzen 7Core 4800H            AMD             Ryzen 7   8 GB   \n",
       "332  Ryzen 5Core 3500U            AMD             Ryzen 5   8 GB   \n",
       "333            Core i7          Intel             8th Gen   8 GB   \n",
       "334            Core i7          Intel            10th Gen  32 GB   \n",
       "335            Core i3          Intel            11th Gen   8 GB   \n",
       "\n",
       "            SSD/HDD Size          OS GraphicCardSize  \\\n",
       "0    1 TB HDD 256 GB SSD  Windows 10           4 GB    \n",
       "1               1 TB HDD  Windows 10           3 GB    \n",
       "2             256 GB SSD  Windows 10                   \n",
       "3               1 TB HDD  Windows 10                   \n",
       "4             512 GB SSD  Windows 10                   \n",
       "..                   ...         ...             ...   \n",
       "331           512 GB SSD  Windows 10           4 GB    \n",
       "332           512 GB SSD  Windows 10                   \n",
       "333  1 TB HDD 128 GB SSD  Windows 10           4 GB    \n",
       "334             1 TB SSD  Windows 10           8 GB    \n",
       "335           512 GB SSD  Windows 10                   \n",
       "\n",
       "                        GraphicCardBrand  \n",
       "0                                         \n",
       "1    NVIDIA GeForce GTX 1050) L340-15...  \n",
       "2                                         \n",
       "3                                         \n",
       "4                                         \n",
       "..                                   ...  \n",
       "331                             NVIDI...  \n",
       "332                                       \n",
       "333                                       \n",
       "334            NVIDIA GeForce RTX 207...  \n",
       "335                                       \n",
       "\n",
       "[336 rows x 15 columns]"
      ]
     },
     "execution_count": 11,
     "metadata": {},
     "output_type": "execute_result"
    }
   ],
   "source": [
    "fp"
   ]
  },
  {
   "cell_type": "code",
   "execution_count": 12,
   "metadata": {},
   "outputs": [],
   "source": [
    "fp.loc[(fp[\"Brand\"]==\"lenovo\"),\"Brand\"]=\"Lenovo\""
   ]
  },
  {
   "cell_type": "markdown",
   "metadata": {},
   "source": [
    "#### For Graphic Card Brand,We see there are some nulls present and most of them are For NVIDIA,SO lets Substitute them properly with Name as NVIDIA"
   ]
  },
  {
   "cell_type": "code",
   "execution_count": 13,
   "metadata": {},
   "outputs": [],
   "source": [
    "fp.loc[(fp[\"GraphicCardBrand\"].str.startswith(\"N\")),\"GraphicCardBrand\"]=\"NVIDIA\""
   ]
  },
  {
   "cell_type": "markdown",
   "metadata": {},
   "source": [
    "#### For Processor Brand,We get a dummy value of Intel Intel. So its obvious its Intel But lets replace with proper name. and same goes for ProcessorName Dummies like\n",
    "\n",
    "#### Pro with Core i5 is Core i5\n",
    "#### AThlonCore 3050U is Core 3050U\n",
    "#### \" \" is bcoz this brands are by apple and it didnt fetch M1 as processor Name due misidentification by regex. So we know that its by apple and apple has m1 for all apple displayed brands and models,so lets put M1 as value.\n",
    "\n",
    "\n",
    "## Note: regex may not perfectly fetch the required data,we may have to manipulate that manually little bit"
   ]
  },
  {
   "cell_type": "code",
   "execution_count": 14,
   "metadata": {},
   "outputs": [],
   "source": [
    "fp[\"ProcessorBrand\"].replace(\"Intel Intel\",\"Intel\",inplace=True)\n",
    "fp.loc[(fp[\"Product\"]==\"Lenovo B50-70 Notebook (4th Gen Ci5/ 8GB/ 1TB/ Win8/ 2GB Graph) (59-427747)\"),\"ProcessorName\"]=\"Core i5\"\n",
    "fp[\"ProcessorName\"].replace(\" Pro with Core i5\",\"Core i5\",inplace=True)\n",
    "fp[\"ProcessorName\"].replace(\"\",\"M1\",inplace=True)\n",
    "fp[\"ProcessorName\"].replace(\"AthlonCore 3050U\",\"Core 3050U\",inplace=True)"
   ]
  },
  {
   "cell_type": "markdown",
   "metadata": {},
   "source": [
    "#### So Similarly for some colums where regex misidentified values for some products,we replace with appropriate values by looking over configurations"
   ]
  },
  {
   "cell_type": "code",
   "execution_count": 15,
   "metadata": {},
   "outputs": [],
   "source": [
    "fp.loc[fp[\"Product\"]==\"Avita Cosmos 2 in 1 Celeron Dual Core - (4 GB/64 GB EMMC Storage/Windows 10 Home) NS12T5IN025P 2 in 1 ...\",\"SSD/HDD Size\"]=\"64 GB\"\n",
    "fp.loc[fp[\"Product\"]==\"Lenovo B50-70 Notebook (4th Gen Ci5/ 8GB/ 1TB/ Win8/ 2GB Graph) (59-427747)\",[\"SSD/HDD Size\",\"OS\",\"GraphicCardSize\"]]=[\"1 TB HDD\",\"Windows 8\",\"2 GB\"]"
   ]
  },
  {
   "cell_type": "code",
   "execution_count": 16,
   "metadata": {},
   "outputs": [],
   "source": [
    "fp.loc[fp[\"OS\"]==\"\",\"OS\"]=\"Windows 10\""
   ]
  },
  {
   "cell_type": "code",
   "execution_count": 17,
   "metadata": {},
   "outputs": [],
   "source": [
    "fp[\"Price\"]=fp[\"Price\"].apply(lambda x:eval(\"\".join(x[1:].split(\",\"))))"
   ]
  },
  {
   "cell_type": "code",
   "execution_count": 18,
   "metadata": {},
   "outputs": [],
   "source": [
    "fp.loc[(fp[\"ProcessorGeneration\"]==\"\") & (fp[\"Specs\"].str.startswith(\"AMD\")),\"ProcessorGeneration\"]=\"Ryzen\"\n",
    "fp.loc[(fp[\"ProcessorGeneration\"]==\"\") & (fp[\"Specs\"].str.startswith(\"Intel\")),\"ProcessorGeneration\"]=\"10th Gen\"\n",
    "fp.loc[(fp[\"ProcessorGeneration\"]==\"\") & (fp[\"Specs\"].str.startswith(\"Apple\")),\"ProcessorGeneration\"]=\"M1\""
   ]
  },
  {
   "cell_type": "code",
   "execution_count": 19,
   "metadata": {},
   "outputs": [],
   "source": [
    "fp[\"RAM\"]=fp[\"RAM\"].apply(lambda x:eval(x.split(\"GB\")[0]))"
   ]
  },
  {
   "cell_type": "code",
   "execution_count": 20,
   "metadata": {},
   "outputs": [],
   "source": [
    "fp[\"GraphicCardBrand\"].replace(\"\",\"not mentioned\",inplace=True)\n",
    "fp[\"GraphicCardSize\"].replace(\"\",\"0 GB\",inplace=True)"
   ]
  },
  {
   "cell_type": "code",
   "execution_count": 21,
   "metadata": {},
   "outputs": [],
   "source": [
    "fp[\"HDD\"]=fp[\"SSD/HDD Size\"].apply(lambda x:\"\".join(re.compile(\"(\\d TB) HDD+\").findall(x)))\n",
    "fp[\"HDD\"].replace(\"\",\"0\",inplace=True)"
   ]
  },
  {
   "cell_type": "code",
   "execution_count": 22,
   "metadata": {},
   "outputs": [],
   "source": [
    "fp[\"SSD\"]=fp[\"SSD/HDD Size\"].apply(lambda x:\"\".join(re.compile(\"(\\d{3} GB|\\d TB) SSD+\").findall(x)))\n",
    "fp[\"SSD\"].replace(\"\",\"0\",inplace=True)"
   ]
  },
  {
   "cell_type": "code",
   "execution_count": 23,
   "metadata": {},
   "outputs": [],
   "source": [
    "fp.loc[(fp[\"Product\"].str.startswith(\"Lenovo IdeaPad Gaming\")) & (fp[\"Product\"].str.endswith(\"Graphic...\")),\"GraphicCardBrand\"]=\"NVIDIA\""
   ]
  },
  {
   "cell_type": "markdown",
   "metadata": {},
   "source": [
    "#### Dropping Page Number bcoz page Number makes no sense."
   ]
  },
  {
   "cell_type": "code",
   "execution_count": 24,
   "metadata": {},
   "outputs": [],
   "source": [
    "fp.drop([\"PageNumber\"],axis=1,inplace=True)"
   ]
  },
  {
   "cell_type": "code",
   "execution_count": 25,
   "metadata": {},
   "outputs": [],
   "source": [
    "fp[\"GraphicCardSize\"]=fp[\"GraphicCardSize\"].apply(lambda x:\" \".join(re.split(\"\\s(?:GB)\",x)))\n",
    "fp[\"GraphicCardSize\"]=fp[\"GraphicCardSize\"].astype(\"float\")"
   ]
  },
  {
   "cell_type": "markdown",
   "metadata": {},
   "source": [
    "#### So Till here we cleaned most of our data and now we are good to go ahead and start our analysis. Incase Anything is Left then that we will sort it out while doing our eda beacuse now it wont be much of cleaning and the cleaning also will depend on what the data says when we start with eda, based on what we infer while doing eda,we will deal with data cleaning accordingly if needed.So our EDA part might also have little bit of data cleaning."
   ]
  },
  {
   "cell_type": "markdown",
   "metadata": {},
   "source": [
    "#### Renaming Product and Discount to proper understabdable value and re arranging the columns for DataFrame Anlayis. \n",
    "\n",
    "#### Well This is Optional and you can skip this step if you can thoroughly understand column names"
   ]
  },
  {
   "cell_type": "code",
   "execution_count": 26,
   "metadata": {},
   "outputs": [],
   "source": [
    "fp.rename(columns={\"Product\":\"ModelName\",\"Discount\":\"Discount(%)\",\"SSD/HDD Size\":\"StorageDrive\"},inplace=True)"
   ]
  },
  {
   "cell_type": "code",
   "execution_count": 27,
   "metadata": {},
   "outputs": [],
   "source": [
    "flipkart=fp[[\"Brand\",\"ModelName\",\"ProcessorBrand\",\"ProcessorName\",\"ProcessorGeneration\",\"OS\",\"RAM\",\"HDD\",\"SSD\",\"StorageDrive\",\"GraphicCardBrand\",\"GraphicCardSize\",\"Ratings\",\"Price\",\"Discount(%)\"]]"
   ]
  },
  {
   "cell_type": "markdown",
   "metadata": {},
   "source": [
    "#### Saving The Cleaned dataframe to csv."
   ]
  },
  {
   "cell_type": "code",
   "execution_count": 28,
   "metadata": {},
   "outputs": [],
   "source": [
    "flipkart.to_csv(\"C:\\\\Users\\\\Angat\\\\Downloads\\\\flipkart_6896.csv\",index=False)"
   ]
  }
 ],
 "metadata": {
  "kernelspec": {
   "display_name": "Python 3",
   "language": "python",
   "name": "python3"
  },
  "language_info": {
   "codemirror_mode": {
    "name": "ipython",
    "version": 3
   },
   "file_extension": ".py",
   "mimetype": "text/x-python",
   "name": "python",
   "nbconvert_exporter": "python",
   "pygments_lexer": "ipython3",
   "version": "3.8.5"
  }
 },
 "nbformat": 4,
 "nbformat_minor": 4
}
